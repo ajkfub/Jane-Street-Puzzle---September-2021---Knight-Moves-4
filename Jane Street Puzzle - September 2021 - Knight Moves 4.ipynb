{
 "cells": [
  {
   "cell_type": "code",
   "execution_count": null,
   "metadata": {},
   "outputs": [],
   "source": [
    "#BY DEDUCTION WE CAN GET THE NUMBDER OF STEPS IS 50 AND THE REGION SUM IS 75"
   ]
  },
  {
   "cell_type": "code",
   "execution_count": 435,
   "metadata": {},
   "outputs": [
    {
     "name": "stdout",
     "output_type": "stream",
     "text": [
      "33\n",
      "33\n",
      "\n",
      "\n",
      "34\n",
      "35\n",
      "\n",
      "\n",
      "50\n",
      "75\n",
      "\n",
      "\n"
     ]
    }
   ],
   "source": [
    "#By applying several conditions we can see that only 33 and 50 left since 2 is impossible to locate in the region that number 33 in\n",
    "#For 33, there is not enough combination for it to completet the puzzle. Since the ideal case of using 33 steps to finsish the puzzle, the other regions should consists of 2 numbers. \n",
    "#However, there is region with more than 2 numbers, therefore it is impossible to complete the puzzle for 33 moves.\n",
    "Sum = 0\n",
    "for i in range(1,101):\n",
    "    Sum += i\n",
    "    if Sum%17 == 0 and Sum%2 == 1 and i>=33 and Sum//17<197:\n",
    "        print(i)\n",
    "        print(Sum//17)\n",
    "        print(\"\\n\")"
   ]
  },
  {
   "cell_type": "code",
   "execution_count": 431,
   "metadata": {},
   "outputs": [],
   "source": [
    "JaneStreet_Puzzle = [[12,0,0,0,0,0,0,0,0,0],[0,0,0,0,0,0,5,0,23,0],[0,0,0,0,0,0,8,0,0,0],[0,0,0,14,0,0,0,0,0,0],[0,0,0,0,0,0,0,0,0,0],[0,2,0,0,0,0,0,0,0,0],[0,0,0,0,20,0,0,0,0,0],[0,0,0,0,33,0,0,0,0,0],[0,0,0,0,0,0,0,0,0,0],[0,0,0,0,0,0,0,0,0,28]]\n",
    "                     "
   ]
  },
  {
   "cell_type": "code",
   "execution_count": 420,
   "metadata": {
    "scrolled": false
   },
   "outputs": [],
   "source": [
    "#Case 1 \n",
    "#WE SHOULD SIMULATE THE SIX \"1\" POSITION\n",
    "#IT IS JUST LUCK THAT Case 1 IS ALREADY THE RIGHT CASE\n",
    "JaneStreet_Puzzle_1 = copy.deepcopy(JaneStreet_Puzzle)\n",
    "JaneStreet_Puzzle_1[3][0] = 1"
   ]
  },
  {
   "cell_type": "code",
   "execution_count": 417,
   "metadata": {},
   "outputs": [],
   "source": [
    "Dict = {}\n",
    "for i in range(len(JaneStreet_Puzzle)):\n",
    "    for j in range(len(JaneStreet_Puzzle)):\n",
    "        if JaneStreet_Puzzle[i][j] != 0:\n",
    "            Dict[JaneStreet_Puzzle[i][j]] = (i,j)"
   ]
  },
  {
   "cell_type": "code",
   "execution_count": 411,
   "metadata": {},
   "outputs": [],
   "source": [
    "#REJECTING CASES WITH REGION SUM > 75 AND 0 < 75 - REGION SUM < Current_Number\n",
    "def CheckPuzzleReturn(a,current):\n",
    "    Region1 = sum(a[0]) + sum(a[1]) - a[1][3] - a[1][8] + sum(a[2]) - a[2][3] - a[2][8] + a[3][0] + a[3][1] + a[4][1] + a[4][3] + a[4][4] + a[5][1] + a[5][2] + a[5][3]\n",
    "    if Region1 > 75 or (75 - Region1 != 0 and  75 - Region1 < current):\n",
    "        return False\n",
    "    Region2 = a[1][3] + a[2][3] + sum(a[3][2:6]) + a[4][2]\n",
    "    if Region2 > 75 or (75 - Region2 != 0 and  75 - Region2 < current):\n",
    "        #print(2)\n",
    "        return False \n",
    "    Region3 = a[1][8] + a[2][8] + sum(a[3][7:])\n",
    "    if Region3 > 75 or (75 - Region3 != 0 and  75 - Region3 < current):\n",
    "        #print(3)\n",
    "        return False \n",
    "    Region4 = a[3][6] + sum(a[4][6:]) + a[5][9]\n",
    "    if Region4 > 75 or (75 - Region4 != 0 and  75 - Region4 < current):\n",
    "        #print(4)\n",
    "        return False \n",
    "    Region5 = a[4][0] + a[5][0] + a[6][0] + a[7][0] + a[8][0]\n",
    "    if Region5 > 75 or (75 - Region5 != 0 and  75 - Region5 < current):\n",
    "        #print(5)\n",
    "        return False \n",
    "    Region6 = a[4][5] + sum(a[5][4:7]) + a[6][4]\n",
    "    if Region6 > 75 or (75 - Region6 != 0 and  75 - Region6 < current):\n",
    "        #print(6)\n",
    "        return False \n",
    "    Region7 = sum(a[5][7:9]) + sum(a[6][7:9]) + a[7][8]\n",
    "    if Region7 > 75 or (75 - Region7 != 0 and  75 - Region7 < current):\n",
    "        #print(7)\n",
    "        return False \n",
    "    Region8 = a[6][1] + a[6][2] + a[7][2]\n",
    "    if Region8 > 75 or (75 - Region8 != 0 and  75 - Region8 < current):\n",
    "        #print(8)\n",
    "        return False \n",
    "    Region9 = a[6][3] + a[7][3] + a[8][3] + a[7][4]\n",
    "    if Region9 > 75 or (75 - Region9 != 0 and  75 - Region9 < current):\n",
    "        return False \n",
    "    Region10 = a[6][5] + a[6][6]\n",
    "    if Region10 > 75 or (75 - Region10 != 0 and  75 - Region10 < current):\n",
    "        return False \n",
    "    Region11 = a[6][9] + a[7][9] + a[8][9] + a[9][9] \n",
    "    if Region11 > 75 or (75 - Region11 != 0 and  75 - Region11 < current):\n",
    "        return False \n",
    "    Region12 = a[7][1] + a[8][1] + a[9][1] + a[9][0]\n",
    "    if Region12 > 75 or (75 - Region12 != 0 and  75 - Region12 < current):\n",
    "        return False \n",
    "    Region13 = sum(a[7][5:8])\n",
    "    if Region13 > 75 or (75 - Region13 != 0 and  75 - Region13 < current):\n",
    "        return False \n",
    "    Region14 = a[8][2] + a[9][2]\n",
    "    if Region14 > 75 or (75 - Region14 != 0 and  75 - Region14 < current):\n",
    "        return False \n",
    "    Region15 = sum(a[8][4:7])\n",
    "    if Region15 > 75 or (75 - Region15 != 0 and  75 - Region15 < current):\n",
    "        return False \n",
    "    Region16 = a[8][7] + a[8][8] + a[9][8]\n",
    "    if Region16 > 75 or (75 - Region16 != 0 and  75 - Region16 < current):\n",
    "        return False \n",
    "    Region17 = sum(a[9][3:8])\n",
    "    if Region17 > 75 or (75 - Region17 != 0 and  75 - Region17 < current):\n",
    "        return False \n",
    "    return True"
   ]
  },
  {
   "cell_type": "code",
   "execution_count": 147,
   "metadata": {},
   "outputs": [],
   "source": [
    "#CHECKING IF THE PUZZLE IS VALID \n",
    "def CheckPuzzle(a):\n",
    "    Region1 = sum(a[0]) + sum(a[1]) - a[1][3] - a[1][8] + sum(a[2]) - a[2][3] - a[2][8] + a[3][0] + a[3][1] + a[4][1] + a[4][3] + a[4][4] + a[5][1] + a[5][2] + a[5][3]\n",
    "    Region2 = a[1][3] + a[2][3] + sum(a[3][2:6]) + a[4][2]\n",
    "    Region3 = a[1][8] + a[2][8] + sum(a[3][7:])\n",
    "    Region4 = a[3][6] + sum(a[4][6:]) + a[5][9]\n",
    "    Region5 = a[4][0] + a[5][0] + a[6][0] + a[7][0] + a[8][0]\n",
    "    Region6 = a[4][5] + sum(a[5][4:7]) + a[6][4]\n",
    "    Region7 = sum(a[5][7:9]) + sum(a[6][7:9]) + a[7][8]\n",
    "    Region8 = a[6][1] + a[6][2] + a[7][2]\n",
    "    Region9 = a[6][3] + a[7][3] + a[8][3] + a[7][4]\n",
    "    Region10 = a[6][5] + a[6][6]\n",
    "    Region11 = a[6][9] + a[7][9] + a[8][9] + a[9][9] \n",
    "    Region12 = a[7][1] + a[8][1] + a[9][1] + a[9][0]\n",
    "    Region13 = sum(a[7][5:8])\n",
    "    Region14 = a[8][2] + a[9][2]\n",
    "    Region15 = sum(a[8][4:7])\n",
    "    Region16 = a[8][7] + a[8][8] + a[9][8]\n",
    "    Region17 = sum(a[9][3:8])\n",
    "    \n",
    "    return Region1 == Region2 == Region3 == Region4 == Region5 == Region6 == Region7 == Region8 == Region9 == Region10 == Region11 == Region12 == Region13 == Region14 == Region15 == Region16 == Region17 \n"
   ]
  },
  {
   "cell_type": "code",
   "execution_count": 412,
   "metadata": {},
   "outputs": [],
   "source": [
    "def dfs(a,i,j,current_number):\n",
    "    if current_number in Dict:\n",
    "        if (i,j) != Dict[current_number]:\n",
    "            return\n",
    "    else:\n",
    "        if i < 10 and i >=0 and j < 10 and j >=0 and a[i][j] == 0:\n",
    "            a[i][j] = current_number\n",
    "        else:\n",
    "            return\n",
    "    if CheckPuzzleReturn(a,current_number) == False or current_number > 50:\n",
    "        return \n",
    "    if CheckPuzzle(a):\n",
    "        print(a)\n",
    "        return a\n",
    "    dfs(copy.deepcopy(a),i+2,j+1,current_number+1)\n",
    "    dfs(copy.deepcopy(a),i+2,j-1,current_number+1)\n",
    "    dfs(copy.deepcopy(a),i+1,j+2,current_number+1)\n",
    "    dfs(copy.deepcopy(a),i+1,j-2,current_number+1)\n",
    "    dfs(copy.deepcopy(a),i-1,j+2,current_number+1)\n",
    "    dfs(copy.deepcopy(a),i-1,j-2,current_number+1)\n",
    "    dfs(copy.deepcopy(a),i-2,j+1,current_number+1)\n",
    "    dfs(copy.deepcopy(a),i-2,j-1,current_number+1)\n"
   ]
  },
  {
   "cell_type": "code",
   "execution_count": 422,
   "metadata": {
    "scrolled": true
   },
   "outputs": [
    {
     "name": "stdout",
     "output_type": "stream",
     "text": [
      "[[12, 0, 0, 0, 0, 9, 0, 7, 0, 0], [0, 0, 13, 10, 0, 0, 5, 0, 23, 0], [0, 11, 0, 17, 4, 0, 8, 0, 6, 0], [1, 0, 0, 14, 0, 18, 0, 22, 0, 24], [0, 0, 16, 3, 0, 21, 50, 25, 0, 0], [0, 2, 0, 0, 15, 0, 19, 48, 0, 0], [0, 41, 34, 0, 20, 49, 26, 0, 0, 47], [35, 38, 0, 42, 33, 30, 45, 0, 27, 0], [40, 0, 36, 0, 0, 43, 32, 29, 46, 0], [37, 0, 39, 0, 31, 0, 0, 44, 0, 28]]\n"
     ]
    }
   ],
   "source": [
    "dfs(copy.deepcopy(JaneStreet_Puzzle_1),3,0,1)"
   ]
  },
  {
   "cell_type": "code",
   "execution_count": 423,
   "metadata": {},
   "outputs": [
    {
     "data": {
      "text/plain": [
       "True"
      ]
     },
     "execution_count": 423,
     "metadata": {},
     "output_type": "execute_result"
    }
   ],
   "source": [
    "Solution == [[12, 0, 0, 0, 0, 9, 0, 7, 0, 0], [0, 0, 13, 10, 0, 0, 5, 0, 23, 0], [0, 11, 0, 17, 4, 0, 8, 0, 6, 0], [1, 0, 0, 14, 0, 18, 0, 22, 0, 24], [0, 0, 16, 3, 0, 21, 50, 25, 0, 0], [0, 2, 0, 0, 15, 0, 19, 48, 0, 0], [0, 41, 34, 0, 20, 49, 26, 0, 0, 47], [35, 38, 0, 42, 33, 30, 45, 0, 27, 0], [40, 0, 36, 0, 0, 43, 32, 29, 46, 0], [37, 0, 39, 0, 31, 0, 0, 44, 0, 28]]"
   ]
  },
  {
   "cell_type": "code",
   "execution_count": 416,
   "metadata": {},
   "outputs": [],
   "source": [
    "# Solution for checking\n",
    "Solution = [[12, 0, 0, 0, 0, 9, 0, 7, 0, 0],\n",
    " [0, 0, 13, 10, 0, 0, 5, 0, 23, 0],\n",
    " [0, 11, 0, 17, 4, 0, 8, 0, 6, 0],\n",
    " [1, 0, 0, 14, 0, 18, 0, 22, 0, 24],\n",
    " [0, 0, 16, 3, 0, 21, 50, 25, 0, 0],\n",
    " [0, 2, 0, 0, 15, 0, 19, 48, 0, 0],\n",
    " [0, 41, 34, 0, 20, 49, 26, 0, 0, 47],\n",
    " [35, 38, 0, 42, 33, 30, 45, 0, 27, 0],\n",
    " [40, 0, 36, 0, 0, 43, 32, 29, 46, 0],\n",
    " [37, 0, 39, 0, 31, 0, 0, 44, 0, 28]]"
   ]
  },
  {
   "cell_type": "code",
   "execution_count": null,
   "metadata": {},
   "outputs": [],
   "source": []
  }
 ],
 "metadata": {
  "kernelspec": {
   "display_name": "Python 3",
   "language": "python",
   "name": "python3"
  },
  "language_info": {
   "codemirror_mode": {
    "name": "ipython",
    "version": 3
   },
   "file_extension": ".py",
   "mimetype": "text/x-python",
   "name": "python",
   "nbconvert_exporter": "python",
   "pygments_lexer": "ipython3",
   "version": "3.8.5"
  }
 },
 "nbformat": 4,
 "nbformat_minor": 4
}
